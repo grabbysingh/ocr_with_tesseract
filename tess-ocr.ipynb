{
 "cells": [
  {
   "cell_type": "code",
   "execution_count": 1,
   "metadata": {},
   "outputs": [],
   "source": [
    "import pytesseract\n",
    "from pytesseract import Output\n",
    "import cv2\n",
    "import matplotlib.pyplot as plt\n",
    "import pandas as pd\n",
    "import re"
   ]
  },
  {
   "cell_type": "code",
   "execution_count": 2,
   "metadata": {},
   "outputs": [],
   "source": [
    "pytesseract.pytesseract.tesseract_cmd = r'C:\\Program Files\\Tesseract-OCR\\tesseract.exe'"
   ]
  },
  {
   "cell_type": "code",
   "execution_count": 3,
   "metadata": {},
   "outputs": [],
   "source": [
    "def imgread(i):\n",
    "    j = \"{}\".format(i) + \".jpg\"\n",
    "    k = cv2.imread(j)\n",
    "    return k"
   ]
  },
  {
   "cell_type": "code",
   "execution_count": 4,
   "metadata": {},
   "outputs": [],
   "source": [
    "def imgwrite(i, m):\n",
    "    j = \"Masked/{}\".format(i) + \".jpg\"\n",
    "    cv2.imwrite(j, m)"
   ]
  },
  {
   "cell_type": "code",
   "execution_count": 5,
   "metadata": {},
   "outputs": [],
   "source": [
    "def imgtodata(i):\n",
    "    j = pytesseract.image_to_data(i, output_type=Output.DICT)\n",
    "    #print(j.keys())\n",
    "    k = len(j['text'])\n",
    "    return j, k"
   ]
  },
  {
   "cell_type": "code",
   "execution_count": 6,
   "metadata": {},
   "outputs": [],
   "source": [
    "def sample(a, b):\n",
    "    print(b)\n",
    "    c = b//2\n",
    "    for i in range(c, c + 5):\n",
    "        print(\"Left: {}\".format(a['left'][i]),\n",
    "              \"Top: {}\".format(a['top'][i]),\n",
    "              \"Width: {}\".format(a['width'][i]),\n",
    "              \"Height:{}\".format(a['height'][i]),\n",
    "              \"Text:{}\".format(a['text'][i]),\n",
    "              \"Conf:{}\".format(a['conf'][i])\n",
    "              )"
   ]
  },
  {
   "cell_type": "code",
   "execution_count": 7,
   "metadata": {},
   "outputs": [],
   "source": [
    "def patterns(a, b, c):\n",
    "    j = '^(0[1-9]|1[0-9]|2[0-9]|3[0-1])-(0[1-9]|1[0-2])-(20[0-9][0-9])' # date\n",
    "    k = '^[A-Z0-9]{20}' # order id\n",
    "    m = '^[A-Z0-9]{16}' # invoice no\n",
    "    n = '^[A-Z0-9]{15}' # gstin\n",
    "    o = '^[A-Z0-9]{10}' # pan\n",
    "    #p = '(\\d+)(\\.)(\\d+)\\b' # price\n",
    "    p = r'\\d+\\.\\d{2}\\b'\n",
    "    q = []\n",
    "    #q.append(1.00)\n",
    "    for i in range(c):\n",
    "        if re.match(j, b['text'][i]):\n",
    "            j = b['text'][i]\n",
    "        elif re.match(k, b['text'][i]):\n",
    "            k = b['text'][i]\n",
    "        elif re.match(m, b['text'][i]):\n",
    "            m = b['text'][i]\n",
    "        elif re.match(n, b['text'][i]):\n",
    "            n = b['text'][i]\n",
    "        elif re.match(o, b['text'][i]):\n",
    "            o = b['text'][i]\n",
    "        elif re.match(p, b['text'][i]):\n",
    "            r = float(b['text'][i])\n",
    "            #r = float(b['text'][i])\n",
    "            q.append(r)\n",
    "            #q.append(round(r, 2))\n",
    "            #q.append(\"{0:.2f}\".format(r))\n",
    "            #q.append(float(b['text'][i]))\n",
    "        else:\n",
    "            continue\n",
    "    return j, k, m, n, o, max(q)"
   ]
  },
  {
   "cell_type": "code",
   "execution_count": 8,
   "metadata": {},
   "outputs": [],
   "source": [
    "def makebox(a, b, c):\n",
    "    for i in range(c):\n",
    "        (x, y, w, h) = b[\"left\"][i], b[\"top\"][i], b[\"width\"][i], b[\"height\"][i] \n",
    "        a = cv2.rectangle(a, (x, y), (x+w, y+h), (0, 255, 0), 1)\n",
    "        a = cv2.putText(a, b['text'][i], (x, y-5), cv2.FONT_HERSHEY_SIMPLEX, 0.3, 1)\n",
    "    plt.imshow(a)\n",
    "    return a"
   ]
  },
  {
   "cell_type": "code",
   "execution_count": null,
   "metadata": {},
   "outputs": [],
   "source": [
    "l = []\n",
    "for i in range(1, 74):\n",
    "    a = imgread(i)\n",
    "    b, c = imgtodata(a)\n",
    "    #d = sample(b, c)\n",
    "    e = makebox(a, b, c)\n",
    "    f = imgwrite(i, e)\n",
    "    #q, r, s, t, u, v = patterns(a, b, c)\n",
    "    l.append((patterns(a, b, c)))"
   ]
  },
  {
   "cell_type": "code",
   "execution_count": null,
   "metadata": {},
   "outputs": [],
   "source": [
    "alldata = pd.DataFrame(data = l, columns=('Date', 'Order Id', 'Invoice No', 'Gstin', 'Pan', 'Price'))"
   ]
  },
  {
   "cell_type": "code",
   "execution_count": null,
   "metadata": {},
   "outputs": [],
   "source": [
    "alldata.to_excel('alldata.xlsx')"
   ]
  }
 ],
 "metadata": {
  "kernelspec": {
   "display_name": "Python 3",
   "language": "python",
   "name": "python3"
  },
  "language_info": {
   "codemirror_mode": {
    "name": "ipython",
    "version": 3
   },
   "file_extension": ".py",
   "mimetype": "text/x-python",
   "name": "python",
   "nbconvert_exporter": "python",
   "pygments_lexer": "ipython3",
   "version": "3.8.5"
  }
 },
 "nbformat": 4,
 "nbformat_minor": 4
}
